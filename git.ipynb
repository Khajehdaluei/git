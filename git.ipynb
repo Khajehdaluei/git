{
 "cells": [
  {
   "cell_type": "markdown",
   "id": "2b3ec8b6",
   "metadata": {},
   "source": [
    "<div style=\"direction:rtl;text-align:center\"><img src=\"https://dl.mohammadkh.ir/logo.png\" alt=\"Mohammadkh.ir\" style=\"width: 250px;\"/></div>\n",
    "<h1><div style=\"direction:rtl;text-align:center\">Git</div></h1>"
   ]
  },
  {
   "cell_type": "markdown",
   "metadata": {
    "id": "v9zxnHcZZcuM"
   },
   "source": [
    "# basic cm"
   ]
  },
  {
   "cell_type": "code",
   "execution_count": 2,
   "metadata": {
    "id": "Cc2bx4JUYWNq"
   },
   "outputs": [],
   "source": [
    "#creat git in directory\n",
    "git init"
   ]
  },
  {
   "cell_type": "code",
   "execution_count": null,
   "metadata": {
    "id": "mrpapfOBYZEC"
   },
   "outputs": [],
   "source": [
    "#check file in directory\n",
    "git status"
   ]
  },
  {
   "cell_type": "code",
   "execution_count": null,
   "metadata": {
    "id": "EmNI5zK4Zb9J"
   },
   "outputs": [],
   "source": [
    "#add file to git for analize (file ---> stage)\n",
    "git add <FileName> #(-A or * )---> all file in directory"
   ]
  },
  {
   "cell_type": "code",
   "execution_count": null,
   "metadata": {
    "id": "Snuv0aL1aI0A"
   },
   "outputs": [],
   "source": [
    "#save change file to git (file ---> stage ---> history)\n",
    "git commit -m \"massage\" #massage --> what changes have been made"
   ]
  },
  {
   "cell_type": "code",
   "execution_count": null,
   "metadata": {
    "id": "uP8tDGOCfnUV"
   },
   "outputs": [],
   "source": [
    "#delete file in directory and git\n",
    "git rm <FileName>"
   ]
  },
  {
   "cell_type": "markdown",
   "metadata": {
    "id": "tHutwDNbcUqM"
   },
   "source": [
    "# diff - changes"
   ]
  },
  {
   "cell_type": "code",
   "execution_count": null,
   "metadata": {
    "id": "2KMnE07lccGl"
   },
   "outputs": [],
   "source": [
    "#list changes directory\n",
    "git log"
   ]
  },
  {
   "cell_type": "code",
   "execution_count": null,
   "metadata": {
    "id": "qpLsg-jTcwv3"
   },
   "outputs": [],
   "source": [
    "#Show changes to the last recorded file \n",
    "#in git\n",
    "git diff HEAD\n",
    "#in stage\n",
    "git deff --stage"
   ]
  },
  {
   "cell_type": "markdown",
   "metadata": {
    "id": "oxR8OBPbdhfS"
   },
   "source": [
    "# check out"
   ]
  },
  {
   "cell_type": "code",
   "execution_count": null,
   "metadata": {
    "id": "2qtx4UE5dmiZ"
   },
   "outputs": [],
   "source": [
    "#reset file cash to stage\n",
    "git reset <FileName>"
   ]
  },
  {
   "cell_type": "code",
   "execution_count": null,
   "metadata": {
    "id": "sWzPIsFgd-DP"
   },
   "outputs": [],
   "source": [
    "#get file in history git\n",
    "#last file save\n",
    "git checkout -- <Filename>\n"
   ]
  },
  {
   "cell_type": "markdown",
   "metadata": {
    "id": "pEQ5MfV7eehz"
   },
   "source": [
    "# branch"
   ]
  },
  {
   "cell_type": "code",
   "execution_count": null,
   "metadata": {
    "id": "zvGaYoWzegVC"
   },
   "outputs": [],
   "source": [
    "#show branch\n",
    "git branch"
   ]
  },
  {
   "cell_type": "code",
   "execution_count": null,
   "metadata": {
    "id": "wDoI9C1Yemrp"
   },
   "outputs": [],
   "source": [
    "#creat new branch\n",
    "git branch <BranchName>"
   ]
  },
  {
   "cell_type": "code",
   "execution_count": null,
   "metadata": {
    "id": "yyEhpiWUe6uQ"
   },
   "outputs": [],
   "source": [
    "#go to branch\n",
    "git checkout <BranchName>"
   ]
  },
  {
   "cell_type": "code",
   "execution_count": null,
   "metadata": {
    "id": "lxjAE0W8fF25"
   },
   "outputs": [],
   "source": [
    "#merge branch in master\n",
    "git merge <BrachName>"
   ]
  },
  {
   "cell_type": "code",
   "execution_count": null,
   "metadata": {
    "id": "4ONRYdcAfeVj"
   },
   "outputs": [],
   "source": [
    "#delete branch\n",
    "git branch -d <BranchName>"
   ]
  },
  {
   "cell_type": "markdown",
   "metadata": {
    "id": "mtJMPODQf1KA"
   },
   "source": [
    "# clone - push"
   ]
  },
  {
   "cell_type": "code",
   "execution_count": null,
   "metadata": {
    "id": "UYC9sZdSf3cH"
   },
   "outputs": [],
   "source": [
    "#clone file server in directory\n",
    "git clone <AdressGit>"
   ]
  },
  {
   "cell_type": "code",
   "execution_count": null,
   "metadata": {
    "id": "vtSzHxNvgKRu"
   },
   "outputs": [],
   "source": [
    "#get last change file server in directory\n",
    "git pull orgin master"
   ]
  },
  {
   "cell_type": "code",
   "execution_count": null,
   "metadata": {
    "id": "fs35XOWdg2sv"
   },
   "outputs": [],
   "source": [
    "#send changes file directory to server\n",
    "git push origin master"
   ]
  },
  {
   "cell_type": "code",
   "execution_count": null,
   "metadata": {
    "id": "4AgRtvy0hSzX"
   },
   "outputs": [],
   "source": [
    "#set adress remote for send file to server\n",
    "git remote add origin <AdressGitServer>"
   ]
  },
  {
   "cell_type": "code",
   "execution_count": null,
   "metadata": {
    "id": "CoEdBJO8iRx5"
   },
   "outputs": [],
   "source": [
    "#**first\n",
    "git push -u origin master \n",
    "#last\n",
    "git push"
   ]
  },
  {
   "cell_type": "code",
   "execution_count": null,
   "metadata": {
    "id": "wNmMu0FekDiI"
   },
   "outputs": [],
   "source": [
    "#push tag \n",
    "git push origin --tags"
   ]
  },
  {
   "cell_type": "markdown",
   "metadata": {},
   "source": [
    "### push large fili github"
   ]
  },
  {
   "cell_type": "code",
   "execution_count": null,
   "metadata": {},
   "outputs": [],
   "source": [
    "# install git lfs\n",
    "git lfs install\n",
    "# add large file\n",
    "git lfs track \"*.psd\"\n",
    "# add track \n",
    "git add .gitattributes"
   ]
  },
  {
   "cell_type": "markdown",
   "metadata": {
    "id": "7SrVQi0mjIdD"
   },
   "source": [
    "# tag"
   ]
  },
  {
   "cell_type": "code",
   "execution_count": null,
   "metadata": {
    "id": "eNcW7lvljKX1"
   },
   "outputs": [],
   "source": [
    "#show tag -- set version prject\n",
    "git tag"
   ]
  },
  {
   "cell_type": "code",
   "execution_count": null,
   "metadata": {
    "id": "h4-O3spRjUeV"
   },
   "outputs": [],
   "source": [
    "#add tag to prject\n",
    "git tag -a <NameTag> -m \"Massage\" #NameTag ex:V2.0  Massage ex: fix buge ..."
   ]
  },
  {
   "cell_type": "code",
   "execution_count": null,
   "metadata": {
    "id": "ZoKCAX0PjxWF"
   },
   "outputs": [],
   "source": [
    "#add tage to history git \n",
    "git tag -a <NameTag> <HashCommit> -m \"Massage\" "
   ]
  },
  {
   "cell_type": "code",
   "execution_count": null,
   "metadata": {
    "id": "-4l_MZjTkTzn"
   },
   "outputs": [],
   "source": [
    "#go to file tag in git\n",
    "git checkout <NameTag>"
   ]
  },
  {
   "cell_type": "markdown",
   "metadata": {
    "id": "j1-Ajmfykxzt"
   },
   "source": [
    "# name edior file"
   ]
  },
  {
   "cell_type": "code",
   "execution_count": null,
   "metadata": {
    "id": "9bZazikbk5uX"
   },
   "outputs": [],
   "source": [
    "#show last line editor\n",
    "git blame <FileName>"
   ]
  },
  {
   "cell_type": "code",
   "execution_count": null,
   "metadata": {
    "id": "VimS_C-4l-Nf"
   },
   "outputs": [],
   "source": [
    "#show history one line editor\n",
    "git blame <FileName> -L <NumberLine>"
   ]
  },
  {
   "cell_type": "markdown",
   "metadata": {
    "id": "oadaY0SQk6YA"
   },
   "source": [
    "# debug prject"
   ]
  },
  {
   "cell_type": "code",
   "execution_count": null,
   "metadata": {
    "id": "BjRygwIDk9nT"
   },
   "outputs": [],
   "source": [
    "#start debug\n",
    "git bisect start"
   ]
  },
  {
   "cell_type": "code",
   "execution_count": null,
   "metadata": {
    "id": "KTQvzWKLlIWh"
   },
   "outputs": [],
   "source": [
    "#now is bad --> start debuging\n",
    "git bisect bad"
   ]
  },
  {
   "cell_type": "code",
   "execution_count": null,
   "metadata": {
    "id": "KL-4RR-VlSVl"
   },
   "outputs": [],
   "source": [
    "#set Hash git is good\n",
    "git bisect good <HashCommit>"
   ]
  },
  {
   "cell_type": "markdown",
   "metadata": {},
   "source": [
    "<div class=\"alert alert-block alert-info\">\n",
    "<div style=\"direction:rtl;text-align:left\"><strong>Git</strong><br>MohammadReza <strong>Khajedaloi</strong><br><br>\n",
    "</div>\n",
    "<div style=\"direction:rtl;text-align:right\">\n",
    "<a href=\"http://mohammadkh.ir/\">WebSite</a> - <a href=\"https://github.com/khajedaloi/\">GitHub</a> - <a href=\"https://www.linkedin.com/in/mohammad-kh/\">Linkedin</a>\n",
    "</div>\n",
    "</div>"
   ]
  }
 ],
 "metadata": {
  "colab": {
   "collapsed_sections": [],
   "name": "git command.ipynb",
   "provenance": []
  },
  "kernelspec": {
   "display_name": "Python 3 (ipykernel)",
   "language": "python",
   "name": "python3"
  },
  "language_info": {
   "codemirror_mode": {
    "name": "ipython",
    "version": 3
   },
   "file_extension": ".py",
   "mimetype": "text/x-python",
   "name": "python",
   "nbconvert_exporter": "python",
   "pygments_lexer": "ipython3",
   "version": "3.9.7"
  }
 },
 "nbformat": 4,
 "nbformat_minor": 1
}
