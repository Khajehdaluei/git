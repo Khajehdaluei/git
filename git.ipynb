{
  "nbformat": 4,
  "nbformat_minor": 0,
  "metadata": {
    "colab": {
      "name": "git command.ipynb",
      "provenance": [],
      "collapsed_sections": []
    },
    "kernelspec": {
      "name": "python3",
      "display_name": "Python 3"
    },
    "language_info": {
      "name": "python"
    }
  },
  "cells": [
    {
      "cell_type": "markdown",
      "source": [
        "# basic cm"
      ],
      "metadata": {
        "id": "v9zxnHcZZcuM"
      }
    },
    {
      "cell_type": "code",
      "source": [
        "#creat git in directory\n",
        "git init"
      ],
      "metadata": {
        "id": "Cc2bx4JUYWNq"
      },
      "execution_count": 2,
      "outputs": []
    },
    {
      "cell_type": "code",
      "source": [
        "#check file in directory\n",
        "git status"
      ],
      "metadata": {
        "id": "mrpapfOBYZEC"
      },
      "execution_count": null,
      "outputs": []
    },
    {
      "cell_type": "code",
      "source": [
        "#add file to git for analize (file ---> stage)\n",
        "git add <FileName> #(-A or * )---> all file in directory"
      ],
      "metadata": {
        "id": "EmNI5zK4Zb9J"
      },
      "execution_count": null,
      "outputs": []
    },
    {
      "cell_type": "code",
      "source": [
        "#save change file to git (file ---> stage ---> history)\n",
        "git commit -m \"massage\" #massage --> what changes have been made"
      ],
      "metadata": {
        "id": "Snuv0aL1aI0A"
      },
      "execution_count": null,
      "outputs": []
    },
    {
      "cell_type": "code",
      "source": [
        "#delete file in directory and git\n",
        "git rm <FileName>"
      ],
      "metadata": {
        "id": "uP8tDGOCfnUV"
      },
      "execution_count": null,
      "outputs": []
    },
    {
      "cell_type": "markdown",
      "source": [
        "# diff - changes"
      ],
      "metadata": {
        "id": "tHutwDNbcUqM"
      }
    },
    {
      "cell_type": "code",
      "source": [
        "#list changes directory\n",
        "git log"
      ],
      "metadata": {
        "id": "2KMnE07lccGl"
      },
      "execution_count": null,
      "outputs": []
    },
    {
      "cell_type": "code",
      "source": [
        "#Show changes to the last recorded file \n",
        "#in git\n",
        "git diff HEAD\n",
        "#in stage\n",
        "git deff --stage"
      ],
      "metadata": {
        "id": "qpLsg-jTcwv3"
      },
      "execution_count": null,
      "outputs": []
    },
    {
      "cell_type": "markdown",
      "source": [
        "#check out"
      ],
      "metadata": {
        "id": "oxR8OBPbdhfS"
      }
    },
    {
      "cell_type": "code",
      "source": [
        "#reset file cash to stage\n",
        "git reset <FileName>"
      ],
      "metadata": {
        "id": "2qtx4UE5dmiZ"
      },
      "execution_count": null,
      "outputs": []
    },
    {
      "cell_type": "code",
      "source": [
        "#get file in history git\n",
        "#last file save\n",
        "git checkout -- <Filename>\n"
      ],
      "metadata": {
        "id": "sWzPIsFgd-DP"
      },
      "execution_count": null,
      "outputs": []
    },
    {
      "cell_type": "markdown",
      "source": [
        "#branch"
      ],
      "metadata": {
        "id": "pEQ5MfV7eehz"
      }
    },
    {
      "cell_type": "code",
      "source": [
        "#show branch\n",
        "git branch"
      ],
      "metadata": {
        "id": "zvGaYoWzegVC"
      },
      "execution_count": null,
      "outputs": []
    },
    {
      "cell_type": "code",
      "source": [
        "#creat new branch\n",
        "git branch <BranchName>"
      ],
      "metadata": {
        "id": "wDoI9C1Yemrp"
      },
      "execution_count": null,
      "outputs": []
    },
    {
      "cell_type": "code",
      "source": [
        "#go to branch\n",
        "git checkout <BranchName>"
      ],
      "metadata": {
        "id": "yyEhpiWUe6uQ"
      },
      "execution_count": null,
      "outputs": []
    },
    {
      "cell_type": "code",
      "source": [
        "#merge branch in master\n",
        "git merge <BrachName>"
      ],
      "metadata": {
        "id": "lxjAE0W8fF25"
      },
      "execution_count": null,
      "outputs": []
    },
    {
      "cell_type": "code",
      "source": [
        "#delete branch\n",
        "git branch -d <BranchName>"
      ],
      "metadata": {
        "id": "4ONRYdcAfeVj"
      },
      "execution_count": null,
      "outputs": []
    },
    {
      "cell_type": "markdown",
      "source": [
        "#clone - push"
      ],
      "metadata": {
        "id": "mtJMPODQf1KA"
      }
    },
    {
      "cell_type": "code",
      "source": [
        "#clone file server in directory\n",
        "git clone <AdressGit>"
      ],
      "metadata": {
        "id": "UYC9sZdSf3cH"
      },
      "execution_count": null,
      "outputs": []
    },
    {
      "cell_type": "code",
      "source": [
        "#get last change file server in directory\n",
        "git pull orgin master"
      ],
      "metadata": {
        "id": "vtSzHxNvgKRu"
      },
      "execution_count": null,
      "outputs": []
    },
    {
      "cell_type": "code",
      "source": [
        "#send changes file directory to server\n",
        "git push origin master"
      ],
      "metadata": {
        "id": "fs35XOWdg2sv"
      },
      "execution_count": null,
      "outputs": []
    },
    {
      "cell_type": "code",
      "source": [
        "#set adress remote for send file to server\n",
        "git remote add origin <AdressGitServer>"
      ],
      "metadata": {
        "id": "4AgRtvy0hSzX"
      },
      "execution_count": null,
      "outputs": []
    },
    {
      "cell_type": "code",
      "source": [
        "#**first\n",
        "git push -u origin master \n",
        "#last\n",
        "git push"
      ],
      "metadata": {
        "id": "CoEdBJO8iRx5"
      },
      "execution_count": null,
      "outputs": []
    },
    {
      "cell_type": "code",
      "source": [
        "#push tag \n",
        "git push origin --tags"
      ],
      "metadata": {
        "id": "wNmMu0FekDiI"
      },
      "execution_count": null,
      "outputs": []
    },
    {
      "cell_type": "markdown",
      "source": [
        "#tag"
      ],
      "metadata": {
        "id": "7SrVQi0mjIdD"
      }
    },
    {
      "cell_type": "code",
      "source": [
        "#show tag -- set version prject\n",
        "git tag"
      ],
      "metadata": {
        "id": "eNcW7lvljKX1"
      },
      "execution_count": null,
      "outputs": []
    },
    {
      "cell_type": "code",
      "source": [
        "#add tag to prject\n",
        "git tag -a <NameTag> -m \"Massage\" #NameTag ex:V2.0  Massage ex: fix buge ..."
      ],
      "metadata": {
        "id": "h4-O3spRjUeV"
      },
      "execution_count": null,
      "outputs": []
    },
    {
      "cell_type": "code",
      "source": [
        "#add tage to history git \n",
        "git tag -a <NameTag> <HashCommit> -m \"Massage\" "
      ],
      "metadata": {
        "id": "ZoKCAX0PjxWF"
      },
      "execution_count": null,
      "outputs": []
    },
    {
      "cell_type": "code",
      "source": [
        "#go to file tag in git\n",
        "git checkout <NameTag>"
      ],
      "metadata": {
        "id": "-4l_MZjTkTzn"
      },
      "execution_count": null,
      "outputs": []
    },
    {
      "cell_type": "markdown",
      "source": [
        "#name edior file"
      ],
      "metadata": {
        "id": "j1-Ajmfykxzt"
      }
    },
    {
      "cell_type": "code",
      "source": [
        "#show last line editor\n",
        "git blame <FileName>"
      ],
      "metadata": {
        "id": "9bZazikbk5uX"
      },
      "execution_count": null,
      "outputs": []
    },
    {
      "cell_type": "code",
      "source": [
        "#show history one line editor\n",
        "git blame <FileName> -L <NumberLine>"
      ],
      "metadata": {
        "id": "VimS_C-4l-Nf"
      },
      "execution_count": null,
      "outputs": []
    },
    {
      "cell_type": "markdown",
      "source": [
        "#debug prject"
      ],
      "metadata": {
        "id": "oadaY0SQk6YA"
      }
    },
    {
      "cell_type": "code",
      "source": [
        "#start debug\n",
        "git bisect start"
      ],
      "metadata": {
        "id": "BjRygwIDk9nT"
      },
      "execution_count": null,
      "outputs": []
    },
    {
      "cell_type": "code",
      "source": [
        "#now is bad --> start debuging\n",
        "git bisect bad"
      ],
      "metadata": {
        "id": "KTQvzWKLlIWh"
      },
      "execution_count": null,
      "outputs": []
    },
    {
      "cell_type": "code",
      "source": [
        "#set Hash git is good\n",
        "git bisect good <HashCommit>"
      ],
      "metadata": {
        "id": "KL-4RR-VlSVl"
      },
      "execution_count": null,
      "outputs": []
    }
  ]
}